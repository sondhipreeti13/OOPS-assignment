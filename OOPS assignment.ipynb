{
 "cells": [
  {
   "cell_type": "code",
   "execution_count": 5,
   "metadata": {},
   "outputs": [
    {
     "name": "stdout",
     "output_type": "stream",
     "text": [
      "Preeti sondhi\n",
      "evaan's mom\n"
     ]
    }
   ],
   "source": [
    "class A:\n",
    "    def test():\n",
    "        print(\"Preeti sondhi\")\n",
    "class B:\n",
    "    def test():\n",
    "        print(\"evaan's mom\")\n",
    "class C(A,B):\n",
    "    def new(self):\n",
    "        A.test()\n",
    "        B.test()\n",
    "c=C() \n",
    "c.new()"
   ]
  }
 ],
 "metadata": {
  "kernelspec": {
   "display_name": "Python 3",
   "language": "python",
   "name": "python3"
  },
  "language_info": {
   "codemirror_mode": {
    "name": "ipython",
    "version": 3
   },
   "file_extension": ".py",
   "mimetype": "text/x-python",
   "name": "python",
   "nbconvert_exporter": "python",
   "pygments_lexer": "ipython3",
   "version": "3.7.1"
  }
 },
 "nbformat": 4,
 "nbformat_minor": 2
}
